{
 "cells": [
  {
   "cell_type": "code",
   "execution_count": null,
   "metadata": {},
   "outputs": [],
   "source": [
    "import numpy as np\n",
    "import torch\n",
    "import matplotlib.pyplot as plt\n",
    "import seaborn as sns\n",
    "from matplotlib.cm import ScalarMappable\n",
    "\n",
    "import seaborn as sns\n",
    "import matplotlib.pyplot as plt\n",
    "\n",
    "from plot_setting import global_setting\n",
    "global_setting()"
   ]
  },
  {
   "cell_type": "markdown",
   "metadata": {},
   "source": [
    "# Bohachevsky Function"
   ]
  },
  {
   "cell_type": "code",
   "execution_count": null,
   "metadata": {},
   "outputs": [],
   "source": [
    "def f_old(x, y):\n",
    "    f = x**2+2*y**2-0.3*torch.cos(3*torch.pi*x)-0.4*torch.cos(4*torch.pi*y)+0.7\n",
    "    return -f"
   ]
  },
  {
   "cell_type": "code",
   "execution_count": null,
   "metadata": {},
   "outputs": [],
   "source": [
    "function_name = \"Bohachevsky\"\n",
    "xlim=(-40, 40)\n",
    "ylim=(-40, 40)\n",
    "n_x = 1001\n",
    "n_y = 1001\n",
    "\n",
    "#Dense grid for bias correction\n",
    "x = torch.linspace(xlim[0], xlim[1],10001)\n",
    "y = torch.linspace(ylim[0], ylim[1],10001)\n",
    "\n",
    "XX, YY = torch.meshgrid(x, y)\n",
    "ZZ = f_old(x=XX, y=YY)\n",
    "min_val = ZZ.min()\n",
    "\n",
    "def f(x, y):\n",
    "    fval = f_old(x, y)\n",
    "    return fval - min_val\n",
    "\n",
    "l_inf = ZZ.max() - min_val\n",
    "print(f\"Maximum_Value (L-inf): {l_inf}\")\n",
    "\n",
    "x = torch.linspace(xlim[0], xlim[1],n_x)\n",
    "y = torch.linspace(ylim[0], ylim[1],n_y)\n",
    "\n",
    "XX, YY = torch.meshgrid(x, y)\n",
    "ZZ = f(x=XX, y=YY,)"
   ]
  },
  {
   "cell_type": "code",
   "execution_count": null,
   "metadata": {},
   "outputs": [],
   "source": [
    "from mpl_toolkits import mplot3d\n",
    "\n",
    "fig = plt.figure(figsize =(6, 2.8))\n",
    "ax = plt.axes(projection ='3d')\n",
    "surf = ax.plot_surface(XX.numpy(), YY.numpy(), ZZ.numpy(), cmap=\"coolwarm\", \n",
    "                       rstride=20, cstride=20, linewidth=0.25, edgecolor=\"k\", antialiased=True)\n",
    "fig.colorbar(surf, shrink=0.5, aspect=12, pad=0.1)\n",
    "ax.set_xlabel(r\"X\")\n",
    "ax.set_ylabel(r\"Y\")\n",
    "ax.set_zlabel(r\"F(x, y)\")\n",
    "plt.tight_layout()\n",
    "plt.savefig(f\"Figures/{function_name}_surface_plot.jpg\", dpi=300, bbox_inches=\"tight\")\n",
    "plt.show()"
   ]
  },
  {
   "cell_type": "markdown",
   "metadata": {},
   "source": [
    "# Computing Norms"
   ]
  },
  {
   "cell_type": "code",
   "execution_count": null,
   "metadata": {},
   "outputs": [],
   "source": [
    "def Lp_norm(residual, p=2):\n",
    "    return ((residual**p).mean())**(1/p)\n",
    "\n",
    "# dense set\n",
    "N_s = 10000000\n",
    "x_s = torch.zeros(N_s, 1).uniform_(xlim[0], xlim[1])\n",
    "y_s = torch.zeros(N_s, 1).uniform_(ylim[0], ylim[1])\n",
    "\n",
    "residuals = f(x = x_s, y = y_s)\n",
    "l2_norm_val = Lp_norm(residuals, p=2)\n",
    "l4_norm_val = Lp_norm(residuals, p=4)\n",
    "l6_norm_val = Lp_norm(residuals, p=6)"
   ]
  },
  {
   "cell_type": "code",
   "execution_count": null,
   "metadata": {},
   "outputs": [],
   "source": [
    "print(f\"Maximum_Value (L-inf): {l_inf}\")\n",
    "print(f\"L2: {l2_norm_val}\")\n",
    "print(f\"L4: {l4_norm_val}\")\n",
    "print(f\"L6: {l6_norm_val}\")"
   ]
  },
  {
   "cell_type": "markdown",
   "metadata": {},
   "source": [
    "# Evolutionary Sampling"
   ]
  },
  {
   "cell_type": "code",
   "execution_count": null,
   "metadata": {},
   "outputs": [],
   "source": [
    "# initial population\n",
    "N_s = 500\n",
    "x_s = torch.zeros(N_s, 1).uniform_(xlim[0], xlim[1])\n",
    "y_s = torch.zeros(N_s, 1).uniform_(ylim[0], ylim[1])"
   ]
  },
  {
   "cell_type": "code",
   "execution_count": null,
   "metadata": {},
   "outputs": [],
   "source": [
    "plot_iters = [1, 5, 10, 20, 100, 1000, 5000]\n",
    "\n",
    "# epochs = max(plot_iters)+1\n",
    "epochs = 20000\n",
    "count = 0\n",
    "\n",
    "resampled_pop_norm_epoch = []\n",
    "retained_pop_norm_epoch = []\n",
    "size_retained = []\n",
    "\n",
    "residuals = f(x = x_s, y = y_s)\n",
    "l2_norm_init_pop = Lp_norm(residuals, p=2)\n",
    "resampled_pop_norm_epoch.append(l2_norm_init_pop)\n",
    "retained_pop_norm_epoch.append(l2_norm_init_pop)\n",
    "\n",
    "nplots = len(plot_iters)+1\n",
    "\n",
    "fig, axes = plt.subplots(2, nplots//2, figsize=(nplots//2*4.2, 2 * 3.5))\n",
    "\n",
    "ax = axes[0, 0]\n",
    "ax.scatter(x_s, y_s, s=20, c='b', marker='o', alpha=0.7)\n",
    "qcs = ax.contour(XX, YY, ZZ, levels=20, cmap='RdGy_r', alpha = 0.4)\n",
    "# ax.set_aspect(\"equal\")\n",
    "plt.colorbar(\n",
    "   ScalarMappable(norm=qcs.norm, cmap=qcs.cmap), ax=ax,\n",
    "#    ticks=range(vmin, vmax+5, 5)\n",
    ")\n",
    "ax.set_title(f\"Epoch: 0\", fontsize=15)\n",
    "\n",
    "for i in range(epochs):\n",
    "    fitness = f(x = x_s, y = y_s)\n",
    "    mask = fitness > fitness.mean()\n",
    "    x_old = x_s[mask].unsqueeze(1)\n",
    "    y_old = y_s[mask].unsqueeze(1)\n",
    "    \n",
    "    x_new = torch.zeros(N_s-len(x_old), 1).uniform_(xlim[0], xlim[1])\n",
    "    y_new = torch.zeros(N_s-len(y_old), 1).uniform_(ylim[0], ylim[1])\n",
    "    \n",
    "    x_s = torch.concat([x_old, x_new], dim=0)\n",
    "    y_s = torch.concat([y_old, y_new], dim=0)\n",
    "    \n",
    "    residuals_old = f(x = x_old, y = y_old)\n",
    "    l2_norm_old = Lp_norm(residuals_old, p=2)\n",
    "    retained_pop_norm_epoch.append(l2_norm_old)\n",
    "    \n",
    "    residuals_new = f(x = x_new, y = y_new)\n",
    "    l2_norm_new = Lp_norm(residuals_new, p=2)\n",
    "    resampled_pop_norm_epoch.append(l2_norm_new)\n",
    "    size_retained.append(len(x_old))\n",
    "    \n",
    "    if count<len(plot_iters):\n",
    "        if plot_iters[count]==i:\n",
    "            ncol = int((count+1)%(nplots/2))\n",
    "            nrow = int((count+1)//(nplots/2))\n",
    "\n",
    "            ax = axes[nrow, ncol]\n",
    "            ax.scatter(x_old, y_old, s=20, c='b', marker='o', alpha=0.7, label=\"Retained Population\")\n",
    "            ax.scatter(x_new, y_new, s=20, c='r', marker='^', alpha=0.7, label=\"Re-sampled Population\")\n",
    "            qcs =ax.contour(XX, YY, ZZ, levels=20, cmap='RdGy_r', alpha = 0.4)\n",
    "    #         ax.set_aspect(\"equal\")\n",
    "            plt.colorbar(\n",
    "               ScalarMappable(norm=qcs.norm, cmap=qcs.cmap), ax=ax,\n",
    "            #    ticks=range(vmin, vmax+5, 5)\n",
    "            )\n",
    "            ax.set_title(f\"Epoch: {plot_iters[count]}\", fontsize=15)\n",
    "            count += 1\n",
    "\n",
    "# plt.subplots_adjust(wspace=0.2, hspace=0.2)\n",
    "# axes[0,1].legend(fontsize=15, bbox_to_anchor=(1.2, 1.5), ncol=2)\n",
    "plt.tight_layout()\n",
    "plt.savefig(f\"Figures/{function_name}_evosample.jpg\", dpi=150, bbox_inches=\"tight\")\n",
    "plt.show()"
   ]
  },
  {
   "cell_type": "code",
   "execution_count": null,
   "metadata": {},
   "outputs": [],
   "source": [
    "epochs_vals = np.arange(1, epochs+2)\n",
    "\n",
    "plt.figure(figsize=(4, 3))\n",
    "plt.plot(epochs_vals, retained_pop_norm_epoch, lw=2.0, label=\"Retained Population\")\n",
    "plt.plot(epochs_vals, resampled_pop_norm_epoch, lw=2.0, label=\"Resampled Population\")\n",
    "plt.hlines(l2_norm_val, xmin=1, xmax=epochs+2, linestyle=\"dashed\", label=r\"$L^2$ Norm\", zorder = 5, color = 'k')\n",
    "plt.hlines(l4_norm_val, xmin=1, xmax=epochs+2, linestyle=\"dashed\", label=r\"$L^4$ Norm\", zorder = 6, color = 'limegreen')\n",
    "plt.hlines(l6_norm_val, xmin=1, xmax=epochs+2, linestyle=\"dashed\", label=r\"$L^6$ Norm\", zorder = 7, color = 'darkviolet')\n",
    "plt.hlines(l_inf, xmin=1, xmax=epochs+2, linestyle=\"dashed\", label=r\"$L^\\infty$ Norm\", zorder = 8, color='r')\n",
    "plt.xscale(\"log\")\n",
    "plt.grid(\"on\", alpha=0.2)\n",
    "plt.xlabel(\"Epochs\", fontsize=15)\n",
    "plt.ylabel(r\"$\\mathcal{L}^2_r(\\theta)$\", fontsize=15)\n",
    "plt.xticks(fontsize=15)\n",
    "plt.yticks(fontsize=15)\n",
    "plt.legend(loc=\"upper left\", ncol=2, fontsize=9)\n",
    "plt.ylim([1000, 7000])\n",
    "plt.savefig(f\"Figures/{function_name}_dynamic_Lp_norm.jpg\", dpi=100, bbox_inches=\"tight\")\n",
    "plt.show()"
   ]
  },
  {
   "cell_type": "code",
   "execution_count": null,
   "metadata": {},
   "outputs": [],
   "source": [
    "plt.figure(figsize=(4, 3))\n",
    "plt.plot(epochs_vals[:-1], np.array(size_retained)/N_s, lw=2.0)\n",
    "plt.hlines(1.0, xmin=1, xmax=epochs+1, linestyle=\"dashed\", label=r\"$L^2$ Norm\", zorder = 5)\n",
    "plt.xscale(\"log\")\n",
    "plt.grid(\"on\", alpha=0.2)\n",
    "plt.xlabel(\"Epochs\", fontsize=15)\n",
    "plt.ylabel(r\"$|\\mathcal{P}^r|/|\\mathcal{P}|$\", fontsize=15)\n",
    "plt.xticks(fontsize=15)\n",
    "plt.yticks(fontsize=15)\n",
    "# plt.legend(loc=\"upper left\", ncol=2, fontsize=9)\n",
    "plt.ylim([-0.1,1.1])\n",
    "plt.savefig(f\"Figures/{function_name}_retain_population_size.jpg\", dpi=100, bbox_inches=\"tight\")\n",
    "plt.show()"
   ]
  },
  {
   "cell_type": "code",
   "execution_count": null,
   "metadata": {},
   "outputs": [],
   "source": []
  },
  {
   "cell_type": "code",
   "execution_count": null,
   "metadata": {},
   "outputs": [],
   "source": []
  }
 ],
 "metadata": {
  "kernelspec": {
   "display_name": "Python 3 (ipykernel)",
   "language": "python",
   "name": "python3"
  },
  "language_info": {
   "codemirror_mode": {
    "name": "ipython",
    "version": 3
   },
   "file_extension": ".py",
   "mimetype": "text/x-python",
   "name": "python",
   "nbconvert_exporter": "python",
   "pygments_lexer": "ipython3",
   "version": "3.6.9"
  }
 },
 "nbformat": 4,
 "nbformat_minor": 4
}
